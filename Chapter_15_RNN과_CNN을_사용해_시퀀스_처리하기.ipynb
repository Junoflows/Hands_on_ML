{
  "nbformat": 4,
  "nbformat_minor": 0,
  "metadata": {
    "colab": {
      "provenance": [],
      "collapsed_sections": [
        "NRK-Zoh9G1W-"
      ],
      "authorship_tag": "ABX9TyOe4pDS8P81zuH35PPPblA4",
      "include_colab_link": true
    },
    "kernelspec": {
      "name": "python3",
      "display_name": "Python 3"
    },
    "language_info": {
      "name": "python"
    }
  },
  "cells": [
    {
      "cell_type": "markdown",
      "metadata": {
        "id": "view-in-github",
        "colab_type": "text"
      },
      "source": [
        "<a href=\"https://colab.research.google.com/github/Junoflows/Hands_on_ML/blob/main/Chapter_15_RNN%EA%B3%BC_CNN%EC%9D%84_%EC%82%AC%EC%9A%A9%ED%95%B4_%EC%8B%9C%ED%80%80%EC%8A%A4_%EC%B2%98%EB%A6%AC%ED%95%98%EA%B8%B0.ipynb\" target=\"_parent\"><img src=\"https://colab.research.google.com/assets/colab-badge.svg\" alt=\"Open In Colab\"/></a>"
      ]
    },
    {
      "cell_type": "markdown",
      "source": [
        "# 설정    "
      ],
      "metadata": {
        "id": "NRK-Zoh9G1W-"
      }
    },
    {
      "cell_type": "code",
      "execution_count": null,
      "metadata": {
        "id": "SjJtq2IaGYHG"
      },
      "outputs": [],
      "source": [
        "# 파이썬 ≥3.5 필수\n",
        "import sys\n",
        "assert sys.version_info >= (3, 5)\n",
        "\n",
        "# 사이킷런 ≥0.20 필수\n",
        "import sklearn\n",
        "assert sklearn.__version__ >= \"0.20\"\n",
        "\n",
        "# 텐서플로 ≥2.0 필수\n",
        "import tensorflow as tf\n",
        "from tensorflow import keras\n",
        "assert tf.__version__ >= \"2.0\"\n",
        "\n",
        "%load_ext tensorboard\n",
        "\n",
        "# 공통 모듈 임포트\n",
        "import numpy as np\n",
        "import os\n",
        "\n",
        "# 노트북 실행 결과를 동일하게 유지하기 위해\n",
        "np.random.seed(42)\n",
        "\n",
        "# 깔끔한 그래프 출력을 위해\n",
        "%matplotlib inline\n",
        "import matplotlib as mpl\n",
        "import matplotlib.pyplot as plt\n",
        "mpl.rc('axes', labelsize=14)\n",
        "mpl.rc('xtick', labelsize=12)\n",
        "mpl.rc('ytick', labelsize=12)\n",
        "\n",
        "# 그림을 저장할 위치\n",
        "PROJECT_ROOT_DIR = \".\"\n",
        "CHAPTER_ID = \"deep\"\n",
        "IMAGES_PATH = os.path.join(PROJECT_ROOT_DIR, \"images\", CHAPTER_ID)\n",
        "os.makedirs(IMAGES_PATH, exist_ok=True)\n",
        "\n",
        "def save_fig(fig_id, tight_layout=True, fig_extension=\"png\", resolution=300):\n",
        "    path = os.path.join(IMAGES_PATH, fig_id + \".\" + fig_extension)\n",
        "    print(\"그림 저장:\", fig_id)\n",
        "    if tight_layout:\n",
        "        plt.tight_layout()\n",
        "    plt.savefig(path, format=fig_extension, dpi=resolution)"
      ]
    },
    {
      "cell_type": "markdown",
      "source": [
        "# Chapter 15 RNN과 CNN을 사용해 시퀀스 처리하기"
      ],
      "metadata": {
        "id": "ExNXhhs2HGtW"
      }
    },
    {
      "cell_type": "markdown",
      "source": [
        "## 15.0 RNN 소개"
      ],
      "metadata": {
        "id": "F-KQzXU4IKPu"
      }
    },
    {
      "cell_type": "markdown",
      "source": [
        "시계열 데이터 분석 활용"
      ],
      "metadata": {
        "id": "flqFPllMHs63"
      }
    },
    {
      "cell_type": "markdown",
      "source": [
        "임의의 길이를 갖는 시퀀스 처리\n",
        "+ 문장, 문서, 오디오 샘플"
      ],
      "metadata": {
        "id": "6PXZZU3XHxVt"
      }
    },
    {
      "cell_type": "markdown",
      "source": [
        "자동번역, STT 같은 자연어처리 분야에 매우 유용"
      ],
      "metadata": {
        "id": "JmRs7xLVH4bJ"
      }
    },
    {
      "cell_type": "markdown",
      "source": [
        "RNN 의 주요 난제\n",
        "+ 불안정한 그레디언트\n",
        "+ 단기기억 문제"
      ],
      "metadata": {
        "id": "ytpXo2ZYITcS"
      }
    },
    {
      "cell_type": "markdown",
      "source": [
        "## 15.1 순환 뉴런과 순환 층"
      ],
      "metadata": {
        "id": "crUwV6upIswc"
      }
    },
    {
      "cell_type": "markdown",
      "source": [
        "+ Feedforward 신경망 : 활성화 신호가 입력층에서 출력층 한 방향으로만 흐르는 신경망\n",
        "+ RNN 도 비슷하게 작동하지만 후방향으로 전달하여 학습결과를 순환시킴"
      ],
      "metadata": {
        "id": "8uXXkSSFMBL1"
      }
    },
    {
      "cell_type": "markdown",
      "source": [
        "##### 순환뉴런\n",
        "+ 입력을 받아 출력을 만든 후 자신에게 출력결과를 전달\n",
        "+ '시간에 따라 네트워크를 펼쳤다'"
      ],
      "metadata": {
        "id": "nDzpLrn_MoXw"
      }
    },
    {
      "cell_type": "markdown",
      "source": [
        "<img src = 'https://formal.hknu.ac.kr/handson-ml2/slides/images/ch15/homl15-01a.png' width =50% >"
      ],
      "metadata": {
        "id": "62xRUFraNMFA"
      }
    },
    {
      "cell_type": "markdown",
      "source": [
        "##### 순환순환층\n",
        "+ 순환뉴런으로 구성된 층"
      ],
      "metadata": {
        "id": "Rb_ghUX9Noog"
      }
    },
    {
      "cell_type": "markdown",
      "source": [
        "<img src = 'https://formal.hknu.ac.kr/handson-ml2/slides/images/ch15/homl15-02a.png' width = 50%>"
      ],
      "metadata": {
        "id": "A_wqIdenNvi3"
      }
    },
    {
      "cell_type": "markdown",
      "source": [
        "#### 하나의 샘플에 대한 순환층의 출력\n",
        "+ 가중치 행렬\n",
        "  + $W_x$ : 현재 타임스텝의 입력에 대한 연결가중치 행렬\n",
        "  + $W_y$ : 이전 타임스텝의 출력에 대한 연결가중치 행렬\n",
        "\n"
      ],
      "metadata": {
        "id": "RrxDRONePCJI"
      }
    },
    {
      "cell_type": "markdown",
      "source": [
        "$y_{(t)} = \\phi(W_x^T x_{(t)} + W_y^T y_{(t-1)} + b)$\n"
      ],
      "metadata": {
        "id": "xmLQQKVzRFKC"
      }
    },
    {
      "cell_type": "markdown",
      "source": [
        "미니배치에 대한 순환층의 출력\n"
      ],
      "metadata": {
        "id": "jyD9cqsITPGz"
      }
    },
    {
      "cell_type": "markdown",
      "source": [
        "$Y_{(t)} = \\phi(X_{(t)} W_x + Y_{(t-1)} W_y + b) \\\\\n",
        "= \\phi \\begin{pmatrix} X_{(t)}Y_{(t-1)} \\end{pmatrix} \\begin{pmatrix} W_x \\\\ W_y \\end{pmatrix} + b\n",
        "$"
      ],
      "metadata": {
        "id": "2sjW1w8H4DOV"
      }
    },
    {
      "cell_type": "markdown",
      "source": [
        "### 15.1.1 메모리 셀"
      ],
      "metadata": {
        "id": "MbvknQb-TtCW"
      }
    },
    {
      "cell_type": "markdown",
      "source": [
        "메모리 셀\n",
        "+ 타임 스텝에 걸쳐서 특정 상태를 보존하는 신경망의 구성요소\n",
        "+ 하나의 순환 뉴런(층) - 10 스텝 정도의 짧은 패턴을 학습하는 기본적인 셀\n",
        "+ LSTM셀, GRU셀 - 장단기 기억 셀"
      ],
      "metadata": {
        "id": "DH9oZ0vF6rKZ"
      }
    },
    {
      "cell_type": "markdown",
      "source": [
        "상태 h(t) : 타임스텝 t에서의 셀의 상태 <br/>\n",
        "$h(t) = f(h(t-1), x(t))$\n"
      ],
      "metadata": {
        "id": "lGmyGRnT_TQc"
      }
    },
    {
      "cell_type": "markdown",
      "source": [
        "<img src = 'https://formal.hknu.ac.kr/handson-ml2/slides/images/ch15/homl15-03.png' width = 50%>"
      ],
      "metadata": {
        "id": "RBEA9nzT_ZRi"
      }
    },
    {
      "cell_type": "markdown",
      "source": [
        "### 15.1.2 입력과 출력 시퀀스"
      ],
      "metadata": {
        "id": "Z-Vlc7ft_iBO"
      }
    },
    {
      "cell_type": "markdown",
      "source": [
        "+ 목적에 따라 입력/출력 데이터의 형식을 벡터 또는 시퀀스로 지정할 수 있음"
      ],
      "metadata": {
        "id": "J98Zg9pR_j_l"
      }
    },
    {
      "cell_type": "markdown",
      "source": [
        "#### seq-to-seq\n",
        "+ 입력 : 시퀀스\n",
        "+ 출력 : 시퀀스\n",
        "+ 시계열 데이터 활용에 유용"
      ],
      "metadata": {
        "id": "-PnwJqjqALbo"
      }
    },
    {
      "cell_type": "markdown",
      "source": [
        "<img src ='https://formal.hknu.ac.kr/handson-ml2/slides/images/ch15/homl15-04a.png' width = 50%>"
      ],
      "metadata": {
        "id": "ROCqz_HvApup"
      }
    },
    {
      "cell_type": "markdown",
      "source": [
        "#### seq-to-vector\n",
        "+ 입력 : 시퀀스\n",
        "+ 출력 : 벡터\n"
      ],
      "metadata": {
        "id": "7LRLCUnDE5ew"
      }
    },
    {
      "cell_type": "markdown",
      "source": [
        "<img src = 'https://formal.hknu.ac.kr/handson-ml2/slides/images/ch15/homl15-04b.png' width = 50% >"
      ],
      "metadata": {
        "id": "hj8eGpkzFIow"
      }
    },
    {
      "cell_type": "markdown",
      "source": [
        "#### vector-to-seq\n",
        "+ 입력: 벡터\n",
        "+ 출력: 시퀀스"
      ],
      "metadata": {
        "id": "VPSDqhphHpIv"
      }
    },
    {
      "cell_type": "markdown",
      "source": [
        "<img src = 'https://formal.hknu.ac.kr/handson-ml2/slides/images/ch15/homl15-04c.png' width = 50%>"
      ],
      "metadata": {
        "id": "ljTyd3ZDHziG"
      }
    },
    {
      "cell_type": "markdown",
      "source": [
        "#### encoder-decoder\n",
        "+ 인코더와 디코더의 조합을 사용하는 이중단계모델\n",
        "+ 인코더 : seq-to-vector 신경망\n",
        "+ 디코더 : vector-to-seq 신경망\n",
        "+ 언어 번역"
      ],
      "metadata": {
        "id": "Egb9khy-H2Zm"
      }
    },
    {
      "cell_type": "markdown",
      "source": [
        "<img src = 'https://formal.hknu.ac.kr/handson-ml2/slides/images/ch15/homl15-04d.png' width =50%>"
      ],
      "metadata": {
        "id": "Y42zaR9SIMSw"
      }
    },
    {
      "cell_type": "markdown",
      "source": [
        "## 15.2 RNN 훈련"
      ],
      "metadata": {
        "id": "mlVNgPbRISM3"
      }
    },
    {
      "cell_type": "markdown",
      "source": [
        "+ BPTT(backpropagation through time) : 타임스텝을 통과하는 역전파\n",
        "+ 가중치 $W$와 편향 $b$ 가 타임스텝에 의존하지 않음\n",
        "  + 모든 타임스텝에 대해 일관되게 작동"
      ],
      "metadata": {
        "id": "d3gxF8VNJ0_5"
      }
    },
    {
      "cell_type": "markdown",
      "source": [
        "![image.png](data:image/png;base64,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)"
      ],
      "metadata": {
        "id": "OTjFM-QkLCE-"
      }
    },
    {
      "cell_type": "markdown",
      "source": [
        "## 15.3 시계열 예측하기"
      ],
      "metadata": {
        "id": "PmujPqqGMIYr"
      }
    },
    {
      "cell_type": "markdown",
      "source": [
        "단변량 시계열\n",
        "+ 타임스텝 마다 하나의 값을 가지는 시퀀스\n",
        "+ 웹사이트의 시간 당 접속자 수, 도시의 날짜별 온도 등"
      ],
      "metadata": {
        "id": "V1VDPamrMNU6"
      }
    },
    {
      "cell_type": "markdown",
      "source": [
        "다변량 시계열\n",
        "+ 타임스텝 마다 여러 값을 가지는 시퀀스\n",
        "+ 회사의 수입, 부채"
      ],
      "metadata": {
        "id": "q1BYbUWAMbHh"
      }
    },
    {
      "cell_type": "markdown",
      "source": [
        "@ 예측, 결측치 대체로 활용"
      ],
      "metadata": {
        "id": "qGijzmpVNH06"
      }
    },
    {
      "cell_type": "markdown",
      "source": [
        "#### 예제\n",
        "+ 3개의 단변량 시계열\n",
        "+ 타임스텝 50개\n",
        "+ X로 표시된 값 예측"
      ],
      "metadata": {
        "id": "H4X-Y0OkNVk2"
      }
    },
    {
      "cell_type": "markdown",
      "source": [
        "![image.png](data:image/png;base64,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)"
      ],
      "metadata": {
        "id": "vJm1fUUONdcR"
      }
    },
    {
      "cell_type": "code",
      "source": [
        "def generate_time_series(batch_size, n_steps):\n",
        "    freq1, freq2, offsets1, offsets2 = np.random.rand(4, batch_size, 1)\n",
        "    time = np.linspace(0, 1, n_steps)\n",
        "    series = 0.5 * np.sin((time - offsets1) * (freq1 * 10 + 10))  #  파도 곡선 1\n",
        "    series += 0.2 * np.sin((time - offsets2) * (freq2 * 20 + 20)) #  파도 속선 2\n",
        "    series += 0.1 * (np.random.rand(batch_size, n_steps) - 0.5)   #  잡음\n",
        "    return series[..., np.newaxis].astype(np.float32)"
      ],
      "metadata": {
        "id": "xzhaSbmvMqwN"
      },
      "execution_count": null,
      "outputs": []
    },
    {
      "cell_type": "code",
      "source": [
        "n_steps = 50\n",
        "series = generate_time_series(10000, n_steps + 1)\n",
        "\n",
        "# 훈련, 검증, 테스트 세트 생성\n",
        "X_train, y_train = series[:7000, :n_steps], series[:7000, -1]\n",
        "X_valid, y_valid = series[7000:9000, :n_steps], series[7000:9000, -1]\n",
        "X_test, y_test = series[9000:, :n_steps], series[9000:, -1]"
      ],
      "metadata": {
        "id": "WA__jjVpk2gp"
      },
      "execution_count": null,
      "outputs": []
    },
    {
      "cell_type": "markdown",
      "source": [
        "### 15.3.1 기준 성능"
      ],
      "metadata": {
        "id": "lnMnh0OmpULc"
      }
    },
    {
      "cell_type": "markdown",
      "source": [
        "단순 예측(naive forecasting)\n",
        "+ 시계열의 마지막 값을 예측값으로 사용"
      ],
      "metadata": {
        "id": "4a1_pH6UpYf6"
      }
    },
    {
      "cell_type": "code",
      "source": [
        "y_pred = X_valid[:, -1]\n",
        "np.mean(keras.losses.mean_squared_error(y_valid, y_pred))"
      ],
      "metadata": {
        "colab": {
          "base_uri": "https://localhost:8080/"
        },
        "id": "lTCMpcpxpVmP",
        "outputId": "cebf92e5-3a1a-4acc-e6ee-06401870d672"
      },
      "execution_count": null,
      "outputs": [
        {
          "output_type": "execute_result",
          "data": {
            "text/plain": [
              "0.020211367"
            ]
          },
          "metadata": {},
          "execution_count": 4
        }
      ]
    },
    {
      "cell_type": "markdown",
      "source": [
        "선형회귀 예측\n",
        "+ 완전연결 네트워크를 사용"
      ],
      "metadata": {
        "id": "xFyylQDyp4Fy"
      }
    },
    {
      "cell_type": "code",
      "source": [
        "model = keras.models.Sequential([\n",
        "    keras.layers.Flatten(input_shape=[50, 1]),\n",
        "    keras.layers.Dense(1)\n",
        "    ])\n",
        "\n",
        "model.compile(loss=\"mse\", optimizer=\"adam\")"
      ],
      "metadata": {
        "id": "qmAeYBA0p3rF"
      },
      "execution_count": null,
      "outputs": []
    },
    {
      "cell_type": "code",
      "source": [
        "model.fit(X_train, y_train, epochs=20, validation_data = (X_valid, y_valid))"
      ],
      "metadata": {
        "id": "BiKY2RNtp_O9"
      },
      "execution_count": null,
      "outputs": []
    },
    {
      "cell_type": "code",
      "source": [
        "model.evaluate(X_test, y_test)"
      ],
      "metadata": {
        "colab": {
          "base_uri": "https://localhost:8080/"
        },
        "id": "NvN1bvjzIdTL",
        "outputId": "29580b6c-b83f-443b-a7ac-57837704e311"
      },
      "execution_count": null,
      "outputs": [
        {
          "output_type": "stream",
          "name": "stdout",
          "text": [
            "32/32 [==============================] - 0s 3ms/step - loss: 0.0046\n"
          ]
        },
        {
          "output_type": "execute_result",
          "data": {
            "text/plain": [
              "0.004631077870726585"
            ]
          },
          "metadata": {},
          "execution_count": 7
        }
      ]
    },
    {
      "cell_type": "markdown",
      "source": [
        "### 15.3.2 간단한 RNN 구현하기\n",
        "SimpleRNN 층\n",
        "+ 1개의 순환 뉴런을 갖는 순환층 1개로 구성된 모델\n",
        "+ 활성화 함수 : tanh\n",
        "+ 모든 시계열 샘플 데이터를 동시에 처리"
      ],
      "metadata": {
        "id": "ix8wentiJtiD"
      }
    },
    {
      "cell_type": "code",
      "source": [
        "model = keras.models.Sequential([\n",
        "    keras.layers.SimpleRNN(1, input_shape=[None, 1])\n",
        "])\n",
        "\n",
        "optimizer = keras.optimizers.Adam(learning_rate=0.005)\n",
        "model.compile(loss=\"mse\", optimizer=optimizer)"
      ],
      "metadata": {
        "id": "hOWh4hfOJv0X"
      },
      "execution_count": null,
      "outputs": []
    },
    {
      "cell_type": "code",
      "source": [
        "model.fit(X_train, y_train, epochs = 20, validation_data=(X_valid, y_valid))"
      ],
      "metadata": {
        "id": "RjR3-L0jLEFa"
      },
      "execution_count": null,
      "outputs": []
    },
    {
      "cell_type": "code",
      "source": [
        "model.evaluate(X_test, y_test)"
      ],
      "metadata": {
        "colab": {
          "base_uri": "https://localhost:8080/"
        },
        "id": "EtLt2Km8LQ9L",
        "outputId": "1bd570a4-a879-4310-91c0-86028f085d96"
      },
      "execution_count": null,
      "outputs": [
        {
          "output_type": "stream",
          "name": "stdout",
          "text": [
            "32/32 [==============================] - 0s 4ms/step - loss: 0.0114\n"
          ]
        },
        {
          "output_type": "execute_result",
          "data": {
            "text/plain": [
              "0.011372195556759834"
            ]
          },
          "metadata": {},
          "execution_count": 12
        }
      ]
    },
    {
      "cell_type": "markdown",
      "source": [
        "@ 선형 모델은 파라미터 51, 심플 RNN은 3개"
      ],
      "metadata": {
        "id": "iz0PPzO3LroJ"
      }
    },
    {
      "cell_type": "markdown",
      "source": [
        "### 15.3.3 심층 RNN\n"
      ],
      "metadata": {
        "id": "ltCzmmw9LvOw"
      }
    },
    {
      "cell_type": "markdown",
      "source": [
        "셀을 여러 층으로 쌓은 RNN"
      ],
      "metadata": {
        "id": "ZkVuYOh_L91b"
      }
    },
    {
      "cell_type": "markdown",
      "source": [
        "![image.png](data:image/png;base64,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)"
      ],
      "metadata": {
        "id": "wq5w_r7cMBcE"
      }
    },
    {
      "cell_type": "code",
      "source": [
        "model = keras.models.Sequential([\n",
        "    keras.layers.SimpleRNN(20, return_sequences=True, input_shape=[None, 1]),\n",
        "    keras.layers.SimpleRNN(20),\n",
        "    keras.layers.Dense(1)\n",
        "])\n",
        "\n",
        "model.compile(loss=\"mse\", optimizer=\"adam\")"
      ],
      "metadata": {
        "id": "jCR4wzUtLiQ5"
      },
      "execution_count": null,
      "outputs": []
    },
    {
      "cell_type": "code",
      "source": [
        "model.fit(X_train, y_train, epochs = 20, validation_data=(X_valid, y_valid))"
      ],
      "metadata": {
        "id": "SB0YY6osMUe6"
      },
      "execution_count": null,
      "outputs": []
    },
    {
      "cell_type": "code",
      "source": [
        "model.evaluate(X_test, y_test)"
      ],
      "metadata": {
        "colab": {
          "base_uri": "https://localhost:8080/"
        },
        "id": "nUE4TilrMWeC",
        "outputId": "e41fd882-9ec4-4479-9960-475846af1070"
      },
      "execution_count": null,
      "outputs": [
        {
          "output_type": "stream",
          "name": "stdout",
          "text": [
            "32/32 [==============================] - 0s 5ms/step - loss: 0.0030\n"
          ]
        },
        {
          "output_type": "execute_result",
          "data": {
            "text/plain": [
              "0.003028496401384473"
            ]
          },
          "metadata": {},
          "execution_count": 38
        }
      ]
    },
    {
      "cell_type": "markdown",
      "source": [
        "### 15.3.4 여러 타임스텝 미래 예측"
      ],
      "metadata": {
        "id": "DlvfebCrN4Z_"
      }
    },
    {
      "cell_type": "markdown",
      "source": [
        "@ 지금까지 한 타임스텝 미래만 예측 <br/>\n",
        "+ 한 타임스텝 예측을 원하는 만큼 반복\n",
        "+ 여러 타임스텝의 값을 동시에 예측"
      ],
      "metadata": {
        "id": "lOnbuoRPOAEU"
      }
    },
    {
      "cell_type": "markdown",
      "source": [
        "#### 한 타임스텝 예측 반복\n",
        "+ 이미 훈련된 모델을 이용하여 한 타임스텝 예측\n",
        "+ 예측 결과를 실제 값처럼 사용하여 동일한 과정 반복\n",
        "+ 미래 예측이 반복될 수록 정확도 떨어지지만 경우에 따라 잘 작동할 수 있음"
      ],
      "metadata": {
        "id": "hQqRjNVNOfZW"
      }
    },
    {
      "cell_type": "code",
      "source": [
        "series = generate_time_series(1, n_steps + 10)\n",
        "X_new, Y_new = series[:, :n_steps], series[:, n_steps:]\n",
        "X = X_new\n",
        "for step_ahead in range(10):\n",
        "    y_pred_one = model.predict(X[:, step_ahead:])[:, np.newaxis, :]\n",
        "    X = np.concatenate([X, y_pred_one], axis=1)\n",
        "\n",
        "y_pred = X[:, n_steps:]"
      ],
      "metadata": {
        "id": "MuqiJ4t2M0WU"
      },
      "execution_count": null,
      "outputs": []
    },
    {
      "cell_type": "code",
      "source": [
        "np.mean(tf.keras.losses.mean_squared_error(series[:, -10:, :], y_pred))"
      ],
      "metadata": {
        "colab": {
          "base_uri": "https://localhost:8080/"
        },
        "id": "1nGk3FpqZ5-g",
        "outputId": "c1f8ba01-b36d-4451-bc34-0ae12c43be1f"
      },
      "execution_count": null,
      "outputs": [
        {
          "output_type": "execute_result",
          "data": {
            "text/plain": [
              "0.1024339"
            ]
          },
          "metadata": {},
          "execution_count": 50
        }
      ]
    },
    {
      "cell_type": "markdown",
      "source": [
        "<img src = 'https://formal.hknu.ac.kr/handson-ml2/slides/images/ch15/homl15-12.png' width = 50%>"
      ],
      "metadata": {
        "id": "ZN2Q4MphPl2b"
      }
    },
    {
      "cell_type": "markdown",
      "source": [
        "#### 여러 타임스텝 값 동시 예측1"
      ],
      "metadata": {
        "id": "_9Yeytu_PqWo"
      }
    },
    {
      "cell_type": "markdown",
      "source": [
        "+ 마지막 예측 과정에서 미래 타임스텝 10개의 값을 예측하는 것으로 변경\n",
        "+ 여전히 seq-to-vector 모델 사용"
      ],
      "metadata": {
        "id": "Y3vlir0lU6SJ"
      }
    },
    {
      "cell_type": "code",
      "source": [
        "n_steps = 50\n",
        "series = generate_time_series(10000, n_steps + 10)\n",
        "X_train, Y_train = series[:7000, :n_steps], series[:7000, -10:, 0]\n",
        "X_valid, Y_valid = series[7000:9000, :n_steps], series[7000:9000, -10:, 0]\n",
        "X_test, Y_test = series[9000:, :n_steps], series[9000:, -10:, 0]"
      ],
      "metadata": {
        "id": "uxksig0uVCyb"
      },
      "execution_count": null,
      "outputs": []
    },
    {
      "cell_type": "code",
      "source": [
        "model = keras.models.Sequential([\n",
        "    keras.layers.SimpleRNN(20, return_sequences=True, input_shape=[None, 1]),\n",
        "    keras.layers.SimpleRNN(20),\n",
        "    keras.layers.Dense(10)\n",
        "    ])\n",
        "\n",
        "model.compile(loss=\"mse\", optimizer=\"adam\")"
      ],
      "metadata": {
        "id": "gewITlN-VFWn"
      },
      "execution_count": null,
      "outputs": []
    },
    {
      "cell_type": "code",
      "source": [
        "model.fit(X_train, Y_train, epochs = 20, validation_data=(X_valid, Y_valid))"
      ],
      "metadata": {
        "colab": {
          "base_uri": "https://localhost:8080/"
        },
        "id": "NNh_AI3tVHLP",
        "outputId": "69ec5902-2c0a-4f29-91f4-231c1a4195d5"
      },
      "execution_count": null,
      "outputs": [
        {
          "output_type": "stream",
          "name": "stdout",
          "text": [
            "Epoch 1/20\n",
            "219/219 [==============================] - 6s 17ms/step - loss: 0.0467 - val_loss: 0.0321\n",
            "Epoch 2/20\n",
            "219/219 [==============================] - 4s 18ms/step - loss: 0.0275 - val_loss: 0.0222\n",
            "Epoch 3/20\n",
            "219/219 [==============================] - 5s 23ms/step - loss: 0.0198 - val_loss: 0.0161\n",
            "Epoch 4/20\n",
            "219/219 [==============================] - 4s 18ms/step - loss: 0.0150 - val_loss: 0.0142\n",
            "Epoch 5/20\n",
            "219/219 [==============================] - 4s 18ms/step - loss: 0.0138 - val_loss: 0.0156\n",
            "Epoch 6/20\n",
            "219/219 [==============================] - 5s 23ms/step - loss: 0.0124 - val_loss: 0.0131\n",
            "Epoch 7/20\n",
            "219/219 [==============================] - 4s 17ms/step - loss: 0.0122 - val_loss: 0.0117\n",
            "Epoch 8/20\n",
            "219/219 [==============================] - 4s 18ms/step - loss: 0.0120 - val_loss: 0.0136\n",
            "Epoch 9/20\n",
            "219/219 [==============================] - 5s 23ms/step - loss: 0.0116 - val_loss: 0.0112\n",
            "Epoch 10/20\n",
            "219/219 [==============================] - 4s 18ms/step - loss: 0.0111 - val_loss: 0.0115\n",
            "Epoch 11/20\n",
            "219/219 [==============================] - 4s 18ms/step - loss: 0.0107 - val_loss: 0.0108\n",
            "Epoch 12/20\n",
            "219/219 [==============================] - 5s 23ms/step - loss: 0.0103 - val_loss: 0.0106\n",
            "Epoch 13/20\n",
            "219/219 [==============================] - 4s 17ms/step - loss: 0.0103 - val_loss: 0.0101\n",
            "Epoch 14/20\n",
            "219/219 [==============================] - 4s 17ms/step - loss: 0.0099 - val_loss: 0.0095\n",
            "Epoch 15/20\n",
            "219/219 [==============================] - 5s 23ms/step - loss: 0.0100 - val_loss: 0.0138\n",
            "Epoch 16/20\n",
            "219/219 [==============================] - 4s 17ms/step - loss: 0.0095 - val_loss: 0.0088\n",
            "Epoch 17/20\n",
            "219/219 [==============================] - 4s 17ms/step - loss: 0.0094 - val_loss: 0.0091\n",
            "Epoch 18/20\n",
            "219/219 [==============================] - 5s 24ms/step - loss: 0.0096 - val_loss: 0.0104\n",
            "Epoch 19/20\n",
            "219/219 [==============================] - 4s 18ms/step - loss: 0.0093 - val_loss: 0.0107\n",
            "Epoch 20/20\n",
            "219/219 [==============================] - 4s 18ms/step - loss: 0.0092 - val_loss: 0.0098\n"
          ]
        },
        {
          "output_type": "execute_result",
          "data": {
            "text/plain": [
              "<keras.src.callbacks.History at 0x7d88c4a2cc40>"
            ]
          },
          "metadata": {},
          "execution_count": 63
        }
      ]
    },
    {
      "cell_type": "code",
      "source": [
        "model.evaluate(X_test, Y_test)"
      ],
      "metadata": {
        "colab": {
          "base_uri": "https://localhost:8080/"
        },
        "id": "NffwSZKyWWJO",
        "outputId": "6c3a9745-b747-4666-d472-34c8eef398cd"
      },
      "execution_count": null,
      "outputs": [
        {
          "output_type": "stream",
          "name": "stdout",
          "text": [
            "32/32 [==============================] - 0s 5ms/step - loss: 0.0095\n"
          ]
        },
        {
          "output_type": "execute_result",
          "data": {
            "text/plain": [
              "0.00950534176081419"
            ]
          },
          "metadata": {},
          "execution_count": 64
        }
      ]
    },
    {
      "cell_type": "markdown",
      "source": [
        "#### 성능 비교 (MSE)\n",
        "+ 단순 예측 : 0.2\n",
        "+ 선형회귀 예측 : 0.01\n",
        "+ 심층 RNN : 0.009"
      ],
      "metadata": {
        "id": "HXmwUdCkWYjU"
      }
    },
    {
      "cell_type": "markdown",
      "source": [
        "<img src = 'https://formal.hknu.ac.kr/handson-ml2/slides/images/ch15/homl15-13.png' width = 50%>"
      ],
      "metadata": {
        "id": "nuXbn4g3WyoO"
      }
    },
    {
      "cell_type": "markdown",
      "source": [
        "#### 여러 타임스텝 값 동시 예측2\n",
        "+ 전체 타임스텝에서 미래 타임스텝 10개의 값을 예측하도록 설정\n",
        "+ seq-to-seq 모델 형식으로 변경"
      ],
      "metadata": {
        "id": "O_iHJPndW1wL"
      }
    },
    {
      "cell_type": "code",
      "source": [
        "n_steps = 50\n",
        "series = generate_time_series(10000, n_steps + 10)\n",
        "X_train = series[:7000, :n_steps]\n",
        "X_valid = series[7000:9000, :n_steps]\n",
        "X_test = series[9000:, :n_steps]\n",
        "\n",
        "# 각 타임스텝에 대한 타깃값을 10개씩 설정\n",
        "Y = np.empty((10000, n_steps, 10))\n",
        "for step_ahead in range(1, 10 + 1):\n",
        "    Y[..., step_ahead - 1] = series[..., step_ahead:step_ahead + n_steps, 0]\n",
        "Y_train = Y[:7000]\n",
        "Y_valid = Y[7000:9000]\n",
        "Y_test = Y[9000:]"
      ],
      "metadata": {
        "id": "tPzaAMwyW0E5"
      },
      "execution_count": null,
      "outputs": []
    },
    {
      "cell_type": "code",
      "source": [
        "model = keras.models.Sequential([\n",
        "    keras.layers.SimpleRNN(20, return_sequences=True, input_shape=[None, 1]),\n",
        "    keras.layers.SimpleRNN(20, return_sequences=True),\n",
        "    keras.layers.TimeDistributed(keras.layers.Dense(10))\n",
        "])\n",
        "\n",
        "def last_time_step_mse(Y_true, Y_pred):\n",
        "    return keras.metrics.mean_squared_error(Y_true[:, -1], Y_pred[:, -1])\n",
        "\n",
        "model.compile(loss=\"mse\", optimizer=keras.optimizers.Adam(learning_rate=0.01), metrics=[last_time_step_mse])"
      ],
      "metadata": {
        "id": "mIFbTyqDdwur"
      },
      "execution_count": null,
      "outputs": []
    },
    {
      "cell_type": "code",
      "source": [
        "model.fit(X_train, Y_train, epochs = 20, validation_data = (X_valid, Y_valid))"
      ],
      "metadata": {
        "id": "YBI1pbPMT0FN"
      },
      "execution_count": null,
      "outputs": []
    },
    {
      "cell_type": "code",
      "source": [
        "model.evaluate(X_test, Y_test)"
      ],
      "metadata": {
        "colab": {
          "base_uri": "https://localhost:8080/"
        },
        "id": "ov4LM6--eYEy",
        "outputId": "6039f858-f803-435e-b13c-125123aed7ab"
      },
      "execution_count": null,
      "outputs": [
        {
          "output_type": "stream",
          "name": "stdout",
          "text": [
            "32/32 [==============================] - 0s 11ms/step - loss: 0.0183 - last_time_step_mse: 0.0069\n"
          ]
        },
        {
          "output_type": "execute_result",
          "data": {
            "text/plain": [
              "[0.018321651965379715, 0.006885050795972347]"
            ]
          },
          "metadata": {},
          "execution_count": 70
        }
      ]
    },
    {
      "cell_type": "markdown",
      "source": [
        "@ 짧은 시퀀스에서는 심층 RNN이 잘 동작하지만 길어지면 잘 동작하지 않음"
      ],
      "metadata": {
        "id": "QbKaNpKJfcuZ"
      }
    },
    {
      "cell_type": "markdown",
      "source": [
        "## 15.4 긴 시퀀스 다루기"
      ],
      "metadata": {
        "id": "1FrEBfY-faI0"
      }
    },
    {
      "cell_type": "markdown",
      "source": [
        "심층 RNN 훈련 시 문제점\n",
        "+ 그레디언트 소실 및 복주 문제\n",
        "+ 긴 훈련시간 또는 불안정한 훈련\n",
        "+ 초기 정보 소실"
      ],
      "metadata": {
        "id": "lT3mGktLfpYZ"
      }
    },
    {
      "cell_type": "markdown",
      "source": [
        "### 15.4.1 불안정한 그레디언트 문제 다루기"
      ],
      "metadata": {
        "id": "Nj3tywLFf3AT"
      }
    },
    {
      "cell_type": "markdown",
      "source": [
        "+ 좋은 가중치 초기화, 빠른 옵티마이저, 드롭아웃 등 활용\n",
        "+ ReLU 같은 수렴하지 않는 활성화 함수는 RNN을 더 불안정하게 함\n",
        "  + 그레디언트 폭주\n",
        "\n",
        "+ 배치정규화는 효과적이지 않음\n",
        "+ 층 정규화는 효과적"
      ],
      "metadata": {
        "id": "GQwrzyn9uFW7"
      }
    },
    {
      "cell_type": "markdown",
      "source": [
        "#### 층 정규화\n",
        "+ 특성 차원의 정규화\n",
        "+ 샘플에 독립적으로 타임스템마다 동적으로 필요한 계산을 할 수 있음"
      ],
      "metadata": {
        "id": "bM1m19fuvohw"
      }
    },
    {
      "cell_type": "code",
      "source": [
        "class LNSimpleRNNCell(keras.layers.Layer):\n",
        "    def __init__(self, units, activation=\"tanh\", **kwargs):\n",
        "        super().__init__(**kwargs)\n",
        "        self.state_size = units\n",
        "        self.output_size = units\n",
        "        self.simple_rnn_cell = keras.layers.SimpleRNNCell(units,\n",
        "                                                          activation=None)\n",
        "        self.layer_norm = keras.layers.LayerNormalization()\n",
        "        self.activation = keras.activations.get(activation)\n",
        "\n",
        "    def call(self, inputs, states):\n",
        "        outputs, new_states = self.simple_rnn_cell(inputs, states)\n",
        "        norm_outputs = self.activation(self.layer_norm(outputs))\n",
        "        return norm_outputs, [norm_outputs]"
      ],
      "metadata": {
        "id": "1Aaa_pO-v7dY"
      },
      "execution_count": null,
      "outputs": []
    },
    {
      "cell_type": "code",
      "source": [
        "model = keras.models.Sequential([\n",
        "    keras.layers.RNN(LNSimpleRNNCell(20), return_sequences=True,\n",
        "                     input_shape=[None, 1]),\n",
        "    keras.layers.RNN(LNSimpleRNNCell(20), return_sequences=True),\n",
        "    keras.layers.TimeDistributed(keras.layers.Dense(10))\n",
        "    ])\n",
        "\n",
        "model.compile(loss=\"mse\", optimizer=\"adam\", metrics=[last_time_step_mse])"
      ],
      "metadata": {
        "id": "qsbficqrfcen"
      },
      "execution_count": null,
      "outputs": []
    },
    {
      "cell_type": "markdown",
      "source": [
        "### 15.4.2 단기기억 문제 해결하기\n"
      ],
      "metadata": {
        "id": "_d1QMtIDTX0g"
      }
    },
    {
      "cell_type": "markdown",
      "source": [
        "#### LSTM 셀\n",
        "+ 1997년 소개\n",
        "+ SimpleRNN 층 대신 LSTM 층 사용"
      ],
      "metadata": {
        "id": "Ezb7_jSjTcoa"
      }
    },
    {
      "cell_type": "code",
      "source": [
        "model = keras.models.Sequential([\n",
        "    keras.layers.LSTM(20, return_sequences=True, input_shape=[None, 1]),\n",
        "    keras.layers.LSTM(20, return_sequences=True),\n",
        "    keras.layers.TimeDistributed(keras.layers.Dense(10))\n",
        "    ])\n",
        "\n",
        "model.compile(loss=\"mse\", optimizer=\"adam\", metrics=[last_time_step_mse])"
      ],
      "metadata": {
        "id": "4IBzBJ8hQZIx"
      },
      "execution_count": null,
      "outputs": []
    },
    {
      "cell_type": "markdown",
      "source": [
        "<img src = 'https://formal.hknu.ac.kr/handson-ml2/slides/images/ch15/homl15-15.png' width = 50%>"
      ],
      "metadata": {
        "id": "k3QsbuKLT9Du"
      }
    },
    {
      "cell_type": "markdown",
      "source": [
        "$i_{(t)} = \\sigma(W_{xi} x_{(t)} + W_{hi} h_{(t-1)} + b_i)$ <br/>\n",
        "$f_{(t)} = \\sigma(W_{xf} x_{(t)} + W_{hf} h_{(t-1)} + b_f)$ <br/>\n",
        "$o_{(t)} = \\sigma(W_{xo} x_{(t)} + W_{ho} h_{(t-1)} + b_o)$ <br/>\n",
        "$g_{(t)} = \\tanh(W_{xg} x_{(t)} + W_{hg} h_{(t-1)} + b_g)$ <br/>\n",
        "$c_{(t)} = f_{(t)} \\odot c_{(t-1)} + i_{(t)} \\odot g_{(t)}$ <br/>\n",
        "$y_{(t)} = h_{(t)} = o_{(t)} \\odot \\tanh(c_{(t)})\n",
        "$"
      ],
      "metadata": {
        "id": "0ny3MWaXWYzZ"
      }
    },
    {
      "cell_type": "markdown",
      "source": [
        "#### GRU 셀\n",
        "+ 2014년 소개\n",
        "+ LSTM 셀의 간소화 버전으로 성능 유사"
      ],
      "metadata": {
        "id": "uW10W5QCWYZK"
      }
    },
    {
      "cell_type": "code",
      "source": [
        "model = keras.models.Sequential([\n",
        "    keras.layers.GRU(20, return_sequences=True, input_shape=[None, 1]),\n",
        "    keras.layers.GRU(20, return_sequences=True),\n",
        "    keras.layers.TimeDistributed(keras.layers.Dense(10))\n",
        "    ])\n",
        "\n",
        "model.compile(loss=\"mse\", optimizer=\"adam\", metrics=[last_time_step_mse])"
      ],
      "metadata": {
        "id": "sM7DPxIIT-n4"
      },
      "execution_count": null,
      "outputs": []
    },
    {
      "cell_type": "markdown",
      "source": [
        "<img src = 'https://formal.hknu.ac.kr/handson-ml2/slides/images/ch15/homl15-16.png' width =50%>"
      ],
      "metadata": {
        "id": "qw5m0UDxWgux"
      }
    },
    {
      "cell_type": "markdown",
      "source": [
        "$z_{(t)} = \\sigma(W_{xz} x_{(t)} + W_{hz} h_{(t-1)} + b_z)$ <br/>\n",
        "$r_{(t)} = \\sigma(W_{xr} x_{(t)} + W_{hr} h_{(t-1)} + b_r)$ <br/>\n",
        "$g_{(t)} = \\tanh(W_{xg} x_{(t)} + W_{hg} (r_{(t)} \\odot h_{(t-1)}) + b_g)$ <br/>\n",
        "$h_{(t)} = z_{(t)} \\odot h_{(t-1)} + (1 - z_{(t)}) \\odot g_{(t)}$ <br/>\n"
      ],
      "metadata": {
        "id": "cyu_r2ERXeE6"
      }
    },
    {
      "cell_type": "markdown",
      "source": [
        "#### GRU 셀과 합성곱 층을 사용한 시퀀스 처리"
      ],
      "metadata": {
        "id": "r6yGsq2wXehj"
      }
    },
    {
      "cell_type": "markdown",
      "source": [
        "+ 1D 합성곱 층으로 입력값을 처리한 후 GRU 셀 활용\n",
        "+ 2 이상의 stride를 사용하여 시퀀스 길이를 줄이면서 핵심정보만 GRU 셀에 전달"
      ],
      "metadata": {
        "id": "fWgN5Vc0XkGx"
      }
    },
    {
      "cell_type": "code",
      "source": [
        "model = keras.models.Sequential([\n",
        "    keras.layers.Conv1D(filters=20, kernel_size=4, strides=2, padding=\"valid\",\n",
        "                        input_shape=[None, 1]),\n",
        "    keras.layers.GRU(20, return_sequences=True),\n",
        "    keras.layers.GRU(20, return_sequences=True),\n",
        "    keras.layers.TimeDistributed(keras.layers.Dense(10))\n",
        "    ])\n",
        "\n",
        "model.compile(loss=\"mse\", optimizer=\"adam\", metrics=[last_time_step_mse])"
      ],
      "metadata": {
        "id": "cXPBMr4ZWfEq"
      },
      "execution_count": null,
      "outputs": []
    },
    {
      "cell_type": "markdown",
      "source": [
        "#### WAVENET"
      ],
      "metadata": {
        "id": "6GKcnprSY_wW"
      }
    },
    {
      "cell_type": "markdown",
      "source": [
        "+ 2016년에 소개됨\n",
        "+ 네트워크 층마다 팽창비율을 2배로 늘리는 1D 합성곱 층을 쌓아올림\n",
        "+ 팽창비율 : 각 뉴런의 입력이 떨어져 있는 간격"
      ],
      "metadata": {
        "id": "39ch2IZBZC3r"
      }
    },
    {
      "cell_type": "markdown",
      "source": [
        "<img src = 'https://formal.hknu.ac.kr/handson-ml2/slides/images/ch15/homl15-17.png' width = 50%>"
      ],
      "metadata": {
        "id": "0-wEz4cuZknv"
      }
    },
    {
      "cell_type": "markdown",
      "source": [
        "+ TTS 작업, 음악 오디오 샘플 생성 등 오디오 문제에서 좋은 성능을 발휘\n",
        "+ LSTM, GRU 보다 훨씬 긴 시퀀스를 다룰 수 있음"
      ],
      "metadata": {
        "id": "uKntRUBFaLqw"
      }
    }
  ]
}